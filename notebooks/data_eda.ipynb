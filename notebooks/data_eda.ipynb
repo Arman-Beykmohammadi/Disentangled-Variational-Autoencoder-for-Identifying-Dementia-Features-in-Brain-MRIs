{
 "cells": [
  {
   "cell_type": "markdown",
   "metadata": {},
   "source": [
    "# Data EDA\n",
    "\n",
    "Keras seems to work too: https://github.com/christianversloot/machine-learning-articles/blob/main/how-to-create-a-variational-autoencoder-with-keras.md"
   ]
  },
  {
   "cell_type": "code",
   "execution_count": 2,
   "metadata": {},
   "outputs": [
    {
     "name": "stderr",
     "output_type": "stream",
     "text": [
      "2024-11-14 01:35:09.686930: I tensorflow/core/platform/cpu_feature_guard.cc:182] This TensorFlow binary is optimized to use available CPU instructions in performance-critical operations.\n",
      "To enable the following instructions: SSE4.1 SSE4.2 AVX AVX2 AVX512F FMA, in other operations, rebuild TensorFlow with the appropriate compiler flags.\n"
     ]
    }
   ],
   "source": [
    "import os\n",
    "import shutil\n",
    "import nibabel as nib\n",
    "import numpy as np\n",
    "import pandas as pd\n",
    "from pathlib import Path\n",
    "import matplotlib.pyplot as plt\n",
    "from matplotlib.widgets import Slider\n",
    "from sklearn.model_selection import train_test_split\n",
    "from sklearn.pipeline import Pipeline\n",
    "from sklearn.preprocessing import StandardScaler, OneHotEncoder\n",
    "# conda create -n tf-gpu tensorflow-gpu\n",
    "from tensorflow.keras.models import Model\n",
    "from tensorflow.keras.layers import Input, Dense, Conv3D, Conv3DTranspose, Dense, Flatten, Reshape, Lambda\n",
    "import tensorflow as tf"
   ]
  },
  {
   "cell_type": "code",
   "execution_count": 3,
   "metadata": {},
   "outputs": [
    {
     "name": "stdout",
     "output_type": "stream",
     "text": [
      "Current working directory: /dhc/home/laura.spies/DVA4D/notebooks\n"
     ]
    }
   ],
   "source": [
    "subject_root = Path('../data/dementia_df.csv')\n",
    "assert subject_root.exists()\n",
    "\n",
    "print(\"Current working directory:\", os.getcwd())"
   ]
  },
  {
   "cell_type": "code",
   "execution_count": 4,
   "metadata": {},
   "outputs": [
    {
     "data": {
      "text/html": [
       "<div>\n",
       "<style scoped>\n",
       "    .dataframe tbody tr th:only-of-type {\n",
       "        vertical-align: middle;\n",
       "    }\n",
       "\n",
       "    .dataframe tbody tr th {\n",
       "        vertical-align: top;\n",
       "    }\n",
       "\n",
       "    .dataframe thead th {\n",
       "        text-align: right;\n",
       "    }\n",
       "</style>\n",
       "<table border=\"1\" class=\"dataframe\">\n",
       "  <thead>\n",
       "    <tr style=\"text-align: right;\">\n",
       "      <th></th>\n",
       "      <th>Subject</th>\n",
       "      <th>Group</th>\n",
       "      <th>path</th>\n",
       "    </tr>\n",
       "  </thead>\n",
       "  <tbody>\n",
       "    <tr>\n",
       "      <th>11471</th>\n",
       "      <td>002_S_0295</td>\n",
       "      <td>CN</td>\n",
       "      <td>/dhc/groups/fglippert/adni_t1_mprage/002_S_029...</td>\n",
       "    </tr>\n",
       "    <tr>\n",
       "      <th>11472</th>\n",
       "      <td>002_S_0295</td>\n",
       "      <td>CN</td>\n",
       "      <td>/dhc/groups/fglippert/adni_t1_mprage/002_S_029...</td>\n",
       "    </tr>\n",
       "    <tr>\n",
       "      <th>11473</th>\n",
       "      <td>002_S_0295</td>\n",
       "      <td>CN</td>\n",
       "      <td>/dhc/groups/fglippert/adni_t1_mprage/002_S_029...</td>\n",
       "    </tr>\n",
       "    <tr>\n",
       "      <th>11474</th>\n",
       "      <td>002_S_0295</td>\n",
       "      <td>CN</td>\n",
       "      <td>/dhc/groups/fglippert/adni_t1_mprage/002_S_029...</td>\n",
       "    </tr>\n",
       "  </tbody>\n",
       "</table>\n",
       "</div>"
      ],
      "text/plain": [
       "          Subject Group                                               path\n",
       "11471  002_S_0295    CN  /dhc/groups/fglippert/adni_t1_mprage/002_S_029...\n",
       "11472  002_S_0295    CN  /dhc/groups/fglippert/adni_t1_mprage/002_S_029...\n",
       "11473  002_S_0295    CN  /dhc/groups/fglippert/adni_t1_mprage/002_S_029...\n",
       "11474  002_S_0295    CN  /dhc/groups/fglippert/adni_t1_mprage/002_S_029..."
      ]
     },
     "execution_count": 4,
     "metadata": {},
     "output_type": "execute_result"
    }
   ],
   "source": [
    "\"\"\" Step 1: Load the dataset \"\"\" \n",
    "# Renamed the slack df to dementia_df for better readability and added to data folder\n",
    "dementia_df = pd.read_csv('../data/dementia_df.csv')\n",
    "# print(dementia_df.columns)\n",
    "\n",
    "# print(dementia_df.path.iloc[0])\n",
    "# print(dementia_df.path.iloc[1])\n",
    "\n",
    "# Create a subset of the dementia_df \n",
    "test_ids = ['002_S_0295']  # subset #'002_S_0413', '002_S_0559'\n",
    "\n",
    "# \n",
    "test_df =  dementia_df[dementia_df['Subject'].isin(test_ids)]\n",
    "# Test = dementia_dat.columns[['Subject','Group', 'path']]\n",
    "test_df=test_df[['Subject','Group', 'path']]\n",
    "\n",
    "# for use in computer the old root path and the new root path\n",
    "\"\"\"\n",
    "old_path = 'dhc/groups/fglippert/adni_t1_mprage'\n",
    "new_path = 'AML/DVA4D'\n",
    "\n",
    "# Apply replacement directly to the 'path' column in the DataFrame\n",
    "test_df['path'] = test_df['path'].str.replace(old_path, new_path, regex=False)\n",
    "\n",
    "# Display modified DataFrame\n",
    "dementia_df\n",
    "\"\"\"\n",
    "test_df"
   ]
  },
  {
   "cell_type": "code",
   "execution_count": 5,
   "metadata": {},
   "outputs": [
    {
     "name": "stdout",
     "output_type": "stream",
     "text": [
      "Resolved path: /dhc/groups/fglippert/adni_t1_mprage/002_S_0295/MPRAGE/2012-05-10_15_44_50.0/S150055/T1toMNInonlin.nii.gz\n"
     ]
    },
    {
     "data": {
      "image/png": "[encoded data removed]",
      "text/plain": [
       "<Figure size 640x480 with 2 Axes>"
      ]
     },
     "metadata": {},
     "output_type": "display_data"
    }
   ],
   "source": [
    "# Define the path using Path for compatibility\n",
    "nifti_path = Path('/dhc/groups/fglippert/adni_t1_mprage/002_S_0295/MPRAGE/2012-05-10_15_44_50.0/S150055/T1toMNInonlin.nii.gz').resolve()\n",
    "print(\"Resolved path:\", nifti_path)\n",
    "\n",
    "if not nifti_path.exists():\n",
    "    raise FileNotFoundError(f\"The file was not found at: {nifti_path}\")\n",
    "\n",
    "# Load the NIfTI image (compressed .nii.gz format)\n",
    "nifti_img = nib.load(str(nifti_path))  # Convert Path to string if nibabel requires it\n",
    "image_data = nifti_img.get_fdata()\n",
    "\n",
    "# Check if the image is 3D\n",
    "if len(image_data.shape) != 3:\n",
    "    raise ValueError(\"The NIfTI image is not 3D. Please provide a 3D image.\")\n",
    "\n",
    "# Initial setup for the figure and axes\n",
    "fig, ax = plt.subplots()\n",
    "plt.subplots_adjust(bottom=0.25)\n",
    "slice_index = image_data.shape[2] // 2  # Start with the middle slice\n",
    "\n",
    "# Display the initial slice\n",
    "slice_image = ax.imshow(image_data[:, :, slice_index], cmap=\"gray\")\n",
    "ax.set_title(f\"Slice {slice_index}\")\n",
    "\n",
    "# Slider setup\n",
    "ax_slider = plt.axes([0.2, 0.1, 0.65, 0.03], facecolor=\"lightgray\")\n",
    "slice_slider = Slider(ax_slider, \"Slice\", 0, image_data.shape[2] - 1, valinit=slice_index, valstep=1)\n",
    "\n",
    "# Update function for the slider\n",
    "def update(val):\n",
    "    slice_idx = int(slice_slider.val)\n",
    "    slice_image.set_data(image_data[:, :, slice_idx])\n",
    "    ax.set_title(f\"Slice {slice_idx}\")\n",
    "    fig.canvas.draw_idle()\n",
    "\n",
    "# Connect the slider to the update function\n",
    "slice_slider.on_changed(update)\n",
    "\n",
    "plt.show()"
   ]
  },
  {
   "cell_type": "code",
   "execution_count": 6,
   "metadata": {},
   "outputs": [
    {
     "name": "stdout",
     "output_type": "stream",
     "text": [
      "<class 'nibabel.nifti1.Nifti1Header'> object, endian='<'\n",
      "sizeof_hdr      : 348\n",
      "data_type       : b''\n",
      "db_name         : b''\n",
      "extents         : 16384\n",
      "session_error   : 0\n",
      "regular         : b'r'\n",
      "dim_info        : 0\n",
      "dim             : [  3 182 218 182   1   1   1   1]\n",
      "intent_p1       : 0.0\n",
      "intent_p2       : 0.0\n",
      "intent_p3       : 0.0\n",
      "intent_code     : none\n",
      "datatype        : float32\n",
      "bitpix          : 32\n",
      "slice_start     : 0\n",
      "pixdim          : [-1.  1.  1.  1.  1.  1.  1.  1.]\n",
      "vox_offset      : 0.0\n",
      "scl_slope       : nan\n",
      "scl_inter       : nan\n",
      "slice_end       : 0\n",
      "slice_code      : unknown\n",
      "xyzt_units      : 10\n",
      "cal_max         : 0.0\n",
      "cal_min         : 0.0\n",
      "slice_duration  : 0.0\n",
      "toffset         : 0.0\n",
      "glmax           : 0\n",
      "glmin           : 0\n",
      "descrip         : b'6.0.5:9e026117'\n",
      "aux_file        : b''\n",
      "qform_code      : mni\n",
      "sform_code      : mni\n",
      "quatern_b       : 0.0\n",
      "quatern_c       : 1.0\n",
      "quatern_d       : 0.0\n",
      "qoffset_x       : 90.0\n",
      "qoffset_y       : -126.0\n",
      "qoffset_z       : -72.0\n",
      "srow_x          : [-1.  0.  0. 90.]\n",
      "srow_y          : [   0.    1.    0. -126.]\n",
      "srow_z          : [  0.   0.   1. -72.]\n",
      "intent_name     : b''\n",
      "magic           : b'n+1'\n"
     ]
    }
   ],
   "source": [
    "# metadata\n",
    "header = nifti_img.header\n",
    "print(header)"
   ]
  },
  {
   "cell_type": "code",
   "execution_count": 7,
   "metadata": {},
   "outputs": [],
   "source": [
    "# Functions\n",
    "def convert_to_nifti(image_path, nifti_path):\n",
    "    try:\n",
    "        img = nib.load(image_path)\n",
    "        nib.save(img, nifti_path)  # Save as NIfTI format\n",
    "        # print(f\"Successfully converted {image_path} to {nifti_path}\")\n",
    "    except FileNotFoundError:\n",
    "        print(f\"Error: File {image_path} not found. Ensure you're connected to the cluster.\")\n",
    "    except Exception as e:\n",
    "        print(f\"An error occurred while processing {image_path}: {e}\")\n",
    "\n",
    "def preprocess_image(image_path):\n",
    "    img = nib.load(image_path).get_fdata() \n",
    "    # img = np.resize(img, (128, 128, 1))\n",
    "    img = (img - np.mean(img)) / np.std(img)\n",
    "    return img\n",
    "\n",
    "def preprocess_metadata(df):\n",
    "    # Standardize or one-hot encode features as needed\n",
    "    df['Age'] = StandardScaler().fit_transform(df[['Age']])\n",
    "    df = pd.get_dummies(df, columns=['Sex', 'Group'], drop_first=True)\n",
    "    return df\n",
    "\n",
    "def sampling(args):\n",
    "    z_mean, z_log_var = args\n",
    "    batch = K.shape(z_mean)[0]\n",
    "    dim = K.int_shape(z_mean)[1]\n",
    "    epsilon = K.random_normal(shape=(batch, dim))\n",
    "    return z_mean + K.exp(0.5 * z_log_var) * epsilon\n",
    "\n",
    "def tf_preprocess_image(path):\n",
    "    img = tf.io.read_file(path)\n",
    "    img = tf.img.decode_image(image, channels = 1)\n",
    "    img = tf.img.resize(image, [128, 128])\n",
    "    img = img / 255.0 # Normalize [0,1]\n",
    "    return img"
   ]
  },
  {
   "cell_type": "code",
   "execution_count": 8,
   "metadata": {},
   "outputs": [],
   "source": [
    "# Load the NIfTI image (compressed .nii.gz format)\n",
    "\n",
    "# Check if the image is 3D\n",
    "if len(image_data.shape) != 3:\n",
    "    raise ValueError(\"The NIfTI image is not 3D. Please provide a 3D image.\")\n",
    "\n",
    "for i, row in test_df.iterrows():\n",
    "    image_path = row['path']\n",
    "    convert_to_nifti(image_path, nifti_path)\n",
    "    test_df.at[i, 'path'] = nifti_path  # Update path to NIfTI"
   ]
  },
  {
   "cell_type": "code",
   "execution_count": 9,
   "metadata": {},
   "outputs": [
    {
     "data": {
      "text/html": [
       "<div>\n",
       "<style scoped>\n",
       "    .dataframe tbody tr th:only-of-type {\n",
       "        vertical-align: middle;\n",
       "    }\n",
       "\n",
       "    .dataframe tbody tr th {\n",
       "        vertical-align: top;\n",
       "    }\n",
       "\n",
       "    .dataframe thead th {\n",
       "        text-align: right;\n",
       "    }\n",
       "</style>\n",
       "<table border=\"1\" class=\"dataframe\">\n",
       "  <thead>\n",
       "    <tr style=\"text-align: right;\">\n",
       "      <th></th>\n",
       "      <th>Subject</th>\n",
       "      <th>Group</th>\n",
       "      <th>path</th>\n",
       "    </tr>\n",
       "  </thead>\n",
       "  <tbody>\n",
       "    <tr>\n",
       "      <th>11474</th>\n",
       "      <td>002_S_0295</td>\n",
       "      <td>CN</td>\n",
       "      <td>/dhc/groups/fglippert/adni_t1_mprage/002_S_029...</td>\n",
       "    </tr>\n",
       "    <tr>\n",
       "      <th>11471</th>\n",
       "      <td>002_S_0295</td>\n",
       "      <td>CN</td>\n",
       "      <td>/dhc/groups/fglippert/adni_t1_mprage/002_S_029...</td>\n",
       "    </tr>\n",
       "    <tr>\n",
       "      <th>11473</th>\n",
       "      <td>002_S_0295</td>\n",
       "      <td>CN</td>\n",
       "      <td>/dhc/groups/fglippert/adni_t1_mprage/002_S_029...</td>\n",
       "    </tr>\n",
       "  </tbody>\n",
       "</table>\n",
       "</div>"
      ],
      "text/plain": [
       "          Subject Group                                               path\n",
       "11474  002_S_0295    CN  /dhc/groups/fglippert/adni_t1_mprage/002_S_029...\n",
       "11471  002_S_0295    CN  /dhc/groups/fglippert/adni_t1_mprage/002_S_029...\n",
       "11473  002_S_0295    CN  /dhc/groups/fglippert/adni_t1_mprage/002_S_029..."
      ]
     },
     "execution_count": 9,
     "metadata": {},
     "output_type": "execute_result"
    }
   ],
   "source": [
    "# Step 4: Splitting the dataset\n",
    "# Task: Stratify by patients : age, train validation and test \n",
    "# Currently runs by picture, is okay for the test of pipeline \n",
    "train_data, test_data = train_test_split(test_df, test_size=0.2, random_state=42)\n",
    "train_data"
   ]
  },
  {
   "cell_type": "code",
   "execution_count": 10,
   "metadata": {},
   "outputs": [
    {
     "name": "stderr",
     "output_type": "stream",
     "text": [
      "2024-11-14 01:35:14.913761: I tensorflow/core/common_runtime/process_util.cc:146] Creating new thread pool with default inter op setting: 2. Tune using inter_op_parallelism_threads for best performance.\n"
     ]
    },
    {
     "ename": "NameError",
     "evalue": "Exception encountered when calling layer \"lambda\" (type Lambda).\n\nname 'K' is not defined\n\nCall arguments received by layer \"lambda\" (type Lambda):\n  • inputs=['tf.Tensor(shape=(None, 10), dtype=float32)', 'tf.Tensor(shape=(None, 10), dtype=float32)']\n  • mask=None\n  • training=None",
     "output_type": "error",
     "traceback": [
      "\u001b[0;31m---------------------------------------------------------------------------\u001b[0m",
      "\u001b[0;31mNameError\u001b[0m                                 Traceback (most recent call last)",
      "Cell \u001b[0;32mIn[10], line 16\u001b[0m\n\u001b[1;32m     14\u001b[0m z_mean \u001b[38;5;241m=\u001b[39m Dense(latent_dim)(x)\n\u001b[1;32m     15\u001b[0m z_log_var \u001b[38;5;241m=\u001b[39m Dense(latent_dim)(x)\n\u001b[0;32m---> 16\u001b[0m z \u001b[38;5;241m=\u001b[39m \u001b[43mLambda\u001b[49m\u001b[43m(\u001b[49m\u001b[43msampling\u001b[49m\u001b[43m,\u001b[49m\u001b[43m \u001b[49m\u001b[43moutput_shape\u001b[49m\u001b[38;5;241;43m=\u001b[39;49m\u001b[43m(\u001b[49m\u001b[43mlatent_dim\u001b[49m\u001b[43m,\u001b[49m\u001b[43m)\u001b[49m\u001b[43m)\u001b[49m\u001b[43m(\u001b[49m\u001b[43m[\u001b[49m\u001b[43mz_mean\u001b[49m\u001b[43m,\u001b[49m\u001b[43m \u001b[49m\u001b[43mz_log_var\u001b[49m\u001b[43m]\u001b[49m\u001b[43m)\u001b[49m\n\u001b[1;32m     18\u001b[0m \u001b[38;5;66;03m# Sampling\u001b[39;00m\n\u001b[1;32m     19\u001b[0m z \u001b[38;5;241m=\u001b[39m Lambda(sampling, output_shape\u001b[38;5;241m=\u001b[39m(latent_dim,))([z_mean, z_log_var])\n",
      "File \u001b[0;32m~/conda3/envs/tflowenv/lib/python3.11/site-packages/keras/utils/traceback_utils.py:70\u001b[0m, in \u001b[0;36mfilter_traceback.<locals>.error_handler\u001b[0;34m(*args, **kwargs)\u001b[0m\n\u001b[1;32m     67\u001b[0m     filtered_tb \u001b[38;5;241m=\u001b[39m _process_traceback_frames(e\u001b[38;5;241m.\u001b[39m__traceback__)\n\u001b[1;32m     68\u001b[0m     \u001b[38;5;66;03m# To get the full stack trace, call:\u001b[39;00m\n\u001b[1;32m     69\u001b[0m     \u001b[38;5;66;03m# `tf.debugging.disable_traceback_filtering()`\u001b[39;00m\n\u001b[0;32m---> 70\u001b[0m     \u001b[38;5;28;01mraise\u001b[39;00m e\u001b[38;5;241m.\u001b[39mwith_traceback(filtered_tb) \u001b[38;5;28;01mfrom\u001b[39;00m \u001b[38;5;28;01mNone\u001b[39;00m\n\u001b[1;32m     71\u001b[0m \u001b[38;5;28;01mfinally\u001b[39;00m:\n\u001b[1;32m     72\u001b[0m     \u001b[38;5;28;01mdel\u001b[39;00m filtered_tb\n",
      "Cell \u001b[0;32mIn[7], line 26\u001b[0m, in \u001b[0;36msampling\u001b[0;34m(args)\u001b[0m\n\u001b[1;32m     24\u001b[0m \u001b[38;5;28;01mdef\u001b[39;00m \u001b[38;5;21msampling\u001b[39m(args):\n\u001b[1;32m     25\u001b[0m     z_mean, z_log_var \u001b[38;5;241m=\u001b[39m args\n\u001b[0;32m---> 26\u001b[0m     batch \u001b[38;5;241m=\u001b[39m \u001b[43mK\u001b[49m\u001b[38;5;241m.\u001b[39mshape(z_mean)[\u001b[38;5;241m0\u001b[39m]\n\u001b[1;32m     27\u001b[0m     dim \u001b[38;5;241m=\u001b[39m K\u001b[38;5;241m.\u001b[39mint_shape(z_mean)[\u001b[38;5;241m1\u001b[39m]\n\u001b[1;32m     28\u001b[0m     epsilon \u001b[38;5;241m=\u001b[39m K\u001b[38;5;241m.\u001b[39mrandom_normal(shape\u001b[38;5;241m=\u001b[39m(batch, dim))\n",
      "\u001b[0;31mNameError\u001b[0m: Exception encountered when calling layer \"lambda\" (type Lambda).\n\nname 'K' is not defined\n\nCall arguments received by layer \"lambda\" (type Lambda):\n  • inputs=['tf.Tensor(shape=(None, 10), dtype=float32)', 'tf.Tensor(shape=(None, 10), dtype=float32)']\n  • mask=None\n  • training=None"
     ]
    }
   ],
   "source": [
    "# Step 5: Build the (Disentangled) VAE with tensorflow\n",
    "# NIfTI images are three D!!!\n",
    "\n",
    "# Parameters\n",
    "latent_dim = 10\n",
    "input_shape = (64, 64, 64, 1)  # 3D shape for each volume patch\n",
    "\n",
    "# Define Encoder\n",
    "inputs = Input(shape=input_shape)\n",
    "x = Conv3D(32, (3, 3, 3), activation='relu', strides=2, padding='same')(inputs)\n",
    "x = Conv3D(64, (3, 3, 3), activation='relu', strides=2, padding='same')(x)\n",
    "x = Conv3D(128, (3, 3, 3), activation='relu', strides=2, padding='same')(x)\n",
    "x = Flatten()(x)\n",
    "z_mean = Dense(latent_dim)(x)\n",
    "z_log_var = Dense(latent_dim)(x)\n",
    "z = Lambda(sampling, output_shape=(latent_dim,))([z_mean, z_log_var])\n",
    "\n",
    "# Sampling\n",
    "z = Lambda(sampling, output_shape=(latent_dim,))([z_mean, z_log_var])\n",
    "\n",
    "# Define Decoder\n",
    "decoder_input = Input(shape=(latent_dim,))\n",
    "x = Dense(8 * 8 * 8 * 128, activation='relu')(decoder_input)\n",
    "x = Reshape((8, 8, 8, 128))(x)\n",
    "x = Conv3DTranspose(128, (3, 3, 3), activation='relu', strides=2, padding='same')(x)\n",
    "x = Conv3DTranspose(64, (3, 3, 3), activation='relu', strides=2, padding='same')(x)\n",
    "x = Conv3DTranspose(32, (3, 3, 3), activation='relu', strides=2, padding='same')(x)\n",
    "outputs = Conv3DTranspose(1, (3, 3, 3), activation='sigmoid', padding='same')(x)\n",
    "\n",
    "# Compile VAE\n",
    "encoder = Model(inputs, [z_mean, z_log_var, z], name=\"encoder\")\n",
    "decoder = Model(decoder_input, outputs, name=\"decoder\")\n",
    "vae = Model(inputs, decoder(encoder(inputs)[2]), name=\"vae\")\n",
    "\n",
    "# Define VAE loss\n",
    "reconstruction_loss = tf.reduce_mean(tf.square(inputs - vae(inputs)))\n",
    "kl_loss = -0.5 * tf.reduce_sum(1 + z_log_var - tf.square(z_mean) - tf.exp(z_log_var), axis=-1)\n",
    "vae_loss = tf.reduce_mean(reconstruction_loss + kl_loss)\n",
    "vae.add_loss(vae_loss)\n",
    "vae.compile(optimizer='adam')"
   ]
  },
  {
   "cell_type": "code",
   "execution_count": null,
   "metadata": {},
   "outputs": [],
   "source": [
    "#vae.fit(train_data, epochs=50, batch_size=64)"
   ]
  }
 ],
 "metadata": {
  "kernelspec": {
   "display_name": "tflowenv",
   "language": "python",
   "name": "python3"
  },
  "language_info": {
   "codemirror_mode": {
    "name": "ipython",
    "version": 3
   },
   "file_extension": ".py",
   "mimetype": "text/x-python",
   "name": "python",
   "nbconvert_exporter": "python",
   "pygments_lexer": "ipython3",
   "version": "3.11.5"
  }
 },
 "nbformat": 4,
 "nbformat_minor": 2
}
